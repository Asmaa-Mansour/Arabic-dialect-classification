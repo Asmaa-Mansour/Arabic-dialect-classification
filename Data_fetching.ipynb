{
  "cells": [
    {
      "cell_type": "code",
      "source": [
        "#import libraries \n",
        "import numpy as np \n",
        "import pandas as pd \n",
        "import requests\n",
        "import warnings\n",
        "warnings.filterwarnings(\"ignore\")"
      ],
      "metadata": {
        "id": "uIWMsGxBdNhJ"
      },
      "execution_count": null,
      "outputs": []
    },
    {
      "cell_type": "code",
      "source": [
        "# data contain 2 columns \"id\" and target column \"dialect\"  which is 18 classes\n",
        "data=pd.read_csv(\"/content/drive/MyDrive/dialect_dataset.csv\")"
      ],
      "metadata": {
        "id": "dVC_z5l4eqLA"
      },
      "execution_count": null,
      "outputs": []
    },
    {
      "cell_type": "code",
      "source": [
        "# use \"id\" column to  retrieve the text from API \"https://recruitment.aimtechnologies.co/ai-tasks\"\n",
        "txt=[]\n",
        "for i in range(459):\n",
        "  s=[str(e) for e in data[\"id\"][i*1000:((i+1)*1000)].tolist()]\n",
        "  r=requests.post(\"https://recruitment.aimtechnologies.co/ai-tasks\", json=s)\n",
        "  x=r.json()\n",
        "  txt.append(x)"
      ],
      "metadata": {
        "id": "8sQKnifpe600"
      },
      "execution_count": null,
      "outputs": []
    },
    {
      "cell_type": "code",
      "source": [
        "all_data=[]\n",
        "for i in range(0,len(txt)):\n",
        "  data_dict=txt[i]\n",
        "  data_items = data_dict.items()\n",
        "  data_list=(list(data_items)) \n",
        "  all_data=all_data+data_list"
      ],
      "metadata": {
        "id": "F1-Nh6ywf7Nw"
      },
      "execution_count": null,
      "outputs": []
    },
    {
      "cell_type": "code",
      "source": [
        "txt_data=pd.DataFrame(all_data,columns=[\"id\",\"txt\"])"
      ],
      "metadata": {
        "id": "p3EW3T5agGri"
      },
      "execution_count": null,
      "outputs": []
    },
    {
      "cell_type": "code",
      "source": [
        "# concatenate both datasets \n",
        "all_data=pd.concat([txt_data,data],axis=1,join ='inner')"
      ],
      "metadata": {
        "id": "-9WdqrWYg9C8"
      },
      "execution_count": null,
      "outputs": []
    },
    {
      "cell_type": "code",
      "source": [
        "# save fetched data \n",
        "all_data.to_csv(\"/content/drive/MyDrive/all_dialect_dataset.csv\",index=False)"
      ],
      "metadata": {
        "id": "HDr94vkRhVm0"
      },
      "execution_count": null,
      "outputs": []
    }
  ],
  "metadata": {
    "colab": {
      "collapsed_sections": [],
      "name": "Data fetching.ipynb",
      "provenance": []
    },
    "kernelspec": {
      "display_name": "Python 3",
      "name": "python3"
    },
    "language_info": {
      "name": "python"
    }
  },
  "nbformat": 4,
  "nbformat_minor": 0
}