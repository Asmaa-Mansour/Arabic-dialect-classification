{
  "cells": [
    {
      "cell_type": "markdown",
      "metadata": {
        "id": "DJgg9e2t8AuM"
      },
      "source": [
        "# Models"
      ]
    },
    {
      "cell_type": "markdown",
      "source": [
        "## machine learning model"
      ],
      "metadata": {
        "id": "uksFh91SPT66"
      }
    },
    {
      "cell_type": "code",
      "execution_count": null,
      "metadata": {
        "id": "dMzmR-leyt4-"
      },
      "outputs": [],
      "source": [
        "import numpy as np\n",
        "import pandas as pd\n",
        "from sklearn import metrics\n",
        "from sklearn.pipeline import Pipeline\n",
        "from sklearn.svm import LinearSVC\n",
        "from sklearn.linear_model import SGDClassifier\n",
        "from sklearn.naive_bayes import MultinomialNB\n",
        "from sklearn.naive_bayes import BernoulliNB\n",
        "from sklearn.linear_model import LogisticRegression\n",
        "from sklearn.ensemble import RandomForestClassifier\n",
        "import matplotlib as plt\n",
        "from sklearn.model_selection import cross_val_score\n",
        "import seaborn as sns"
      ]
    },
    {
      "cell_type": "code",
      "source": [
        "models = [\n",
        "    LinearSVC(class_weight= 'balanced',penalty=\"l2\",C=.01,tol=.000001),\n",
        "    SGDClassifier( random_state=109,shuffle=True),\n",
        "    MultinomialNB(),\n",
        "    BernoulliNB(alpha=1.0, binarize=0.0, fit_prior=True),\n",
        "    LogisticRegression(random_state=0, solver='lbfgs',multi_class='multinomial'),\n",
        "    RandomForestClassifier( random_state=0),\n",
        "]\n",
        "\n",
        "CV = 5\n",
        "cv_df = pd.DataFrame(index=range(CV * len(models)))\n",
        "entries = []\n",
        "for model in models:\n",
        "    model_name = model.__class__.__name__\n",
        "    accuracies = cross_val_score(model, features, labels, scoring='accuracy', cv=CV)\n",
        "    for fold_idx, accuracy in enumerate(accuracies):\n",
        "        entries.append((model_name, fold_idx, accuracy))\n",
        "\n",
        "cv_df = pd.DataFrame(entries, columns=['model_name', 'fold_idx', 'accuracy'])"
      ],
      "metadata": {
        "id": "WUi8HDYsJRzK"
      },
      "execution_count": null,
      "outputs": []
    },
    {
      "cell_type": "code",
      "source": [
        "cv_df.groupby('model_name').accuracy.mean()"
      ],
      "metadata": {
        "id": "LFGGLO0e5xIe"
      },
      "execution_count": null,
      "outputs": []
    },
    {
      "cell_type": "code",
      "execution_count": null,
      "metadata": {
        "id": "RbfOdKB-y0Ep"
      },
      "outputs": [],
      "source": [
        "sns.boxplot(x='model_name', y='accuracy', data=cv_df)\n",
        "sns.stripplot(x='model_name', y='accuracy', data=cv_df, \n",
        "              size=12, jitter=True, edgecolor=\"gray\", linewidth=2)\n",
        "sns.set(rc={'figure.figsize':(30,30)})"
      ]
    },
    {
      "cell_type": "code",
      "source": [
        "# the model with best accuracy is LinearSVC , will used with our data"
      ],
      "metadata": {
        "id": "J2VheRlI59-F"
      },
      "execution_count": null,
      "outputs": []
    },
    {
      "cell_type": "code",
      "execution_count": null,
      "metadata": {
        "id": "pqcrrkp0y1RL"
      },
      "outputs": [],
      "source": [
        "model = Pipeline([('vect', CountVectorizer()),\n",
        "                     ('tfidf', TfidfTransformer()),\n",
        "                     ('clf', LinearSVC(random_state=0, tol=1e-5)),\n",
        "                    ])\n",
        "\n",
        "model.fit(X_train, y_train)\n",
        "\n",
        "y_pred = model.predict(X_test)"
      ]
    },
    {
      "cell_type": "code",
      "source": [
        "target = Data[\"dialect\"].astype('category')\n",
        "print('categories: {}'.format(target.cat.categories))"
      ],
      "metadata": {
        "id": "7yI3K6BS6h_x"
      },
      "execution_count": null,
      "outputs": []
    },
    {
      "cell_type": "code",
      "source": [
        "# train\n",
        "print(metrics.classification_report(y_train, model.predict(X_train),target_names=target.cat.categories))"
      ],
      "metadata": {
        "id": "qqhS-ZqK6lmI"
      },
      "execution_count": null,
      "outputs": []
    },
    {
      "cell_type": "code",
      "source": [
        "#test\n",
        "print(metrics.classification_report(y_test, y_pred,target_names=target.cat.categories))"
      ],
      "metadata": {
        "id": "tzUKTChk6XGP"
      },
      "execution_count": null,
      "outputs": []
    },
    {
      "cell_type": "code",
      "source": [
        "from sklearn.metrics import confusion_matrix\n",
        "conf_mat = confusion_matrix(y_test, y_pred)\n",
        "fig, ax = plt.subplots(figsize=(20,20))\n",
        "sns.heatmap(conf_mat, annot=True, fmt='d',\n",
        "            xticklabels=target.cat.categories, yticklabels=target.cat.categories)\n",
        "plt.ylabel('Actual')\n",
        "plt.xlabel('Predicted')\n",
        "plt.show()"
      ],
      "metadata": {
        "id": "F1jDVO-j6XOr"
      },
      "execution_count": null,
      "outputs": []
    },
    {
      "cell_type": "code",
      "source": [
        "from sklearn.metrics import f1_score\n",
        "f1_score(y_test, y_pred, average=None)"
      ],
      "metadata": {
        "id": "3BBC8sKd67fs"
      },
      "execution_count": null,
      "outputs": []
    },
    {
      "cell_type": "markdown",
      "source": [
        "## deep learning model"
      ],
      "metadata": {
        "id": "Wl_oUHSE7dtF"
      }
    },
    {
      "cell_type": "code",
      "source": [
        "embedding_dim = 64\n",
        "training_portion = .7\n",
        "model = Sequential([\n",
        "\n",
        "    Embedding(vocab_size, embedding_dim),\n",
        "    Bidirectional(LSTM(embedding_dim)),\n",
        "    #Bidirectional(LSTM(32)),\n",
        "    Dense(32, activation='relu'),\n",
        "    Dense(19, activation='softmax')\n",
        "])\n",
        "model.summary()"
      ],
      "metadata": {
        "id": "Gqo1aOge7lC5"
      },
      "execution_count": null,
      "outputs": []
    },
    {
      "cell_type": "code",
      "source": [
        "model.compile(loss='sparse_categorical_crossentropy', optimizer='adam', metrics=['accuracy'])\n",
        "history = model.fit(train_padded, training_label_seq, epochs=5, validation_data=(validation_padded, validation_label_seq), verbose=2)"
      ],
      "metadata": {
        "id": "jkYER0f_Iol7"
      },
      "execution_count": null,
      "outputs": []
    }
  ],
  "metadata": {
    "colab": {
      "collapsed_sections": [],
      "name": "models",
      "provenance": [],
      "toc_visible": true
    },
    "kernelspec": {
      "display_name": "Python 3",
      "name": "python3"
    },
    "language_info": {
      "name": "python"
    }
  },
  "nbformat": 4,
  "nbformat_minor": 0
}